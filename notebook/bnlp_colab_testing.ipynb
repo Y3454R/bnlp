{
  "nbformat": 4,
  "nbformat_minor": 0,
  "metadata": {
    "colab": {
      "name": "bnlp_colab.ipynb",
      "provenance": [],
      "include_colab_link": true
    },
    "kernelspec": {
      "name": "python3",
      "display_name": "Python 3"
    }
  },
  "cells": [
    {
      "cell_type": "markdown",
      "metadata": {
        "id": "view-in-github",
        "colab_type": "text"
      },
      "source": [
        "<a href=\"https://colab.research.google.com/github/sagorbrur/bnlp/blob/master/notebook/bnlp_colab_testing.ipynb\" target=\"_parent\"><img src=\"https://colab.research.google.com/assets/colab-badge.svg\" alt=\"Open In Colab\"/></a>"
      ]
    },
    {
      "cell_type": "markdown",
      "metadata": {
        "id": "xqHRllMHSiDH"
      },
      "source": [
        "# BNLP\n",
        "BNLP is a natural language processing toolkit for Bengali Language. This tool will help you to tokenize Bengali text, Embedding Bengali words, Bengali POS Tagging, Construct Neural Model for Bengali NLP purposes.\n",
        "\n",
        "Here we provide a to z api level use of **BNLP**"
      ]
    },
    {
      "cell_type": "markdown",
      "metadata": {
        "id": "SXurTR8rSzdT"
      },
      "source": [
        "## Installation"
      ]
    },
    {
      "cell_type": "code",
      "metadata": {
        "id": "EqRr2C1sSag_",
        "outputId": "15ade8e7-5694-4d21-b0e6-3bfd5694b59a",
        "colab": {
          "base_uri": "https://localhost:8080/"
        }
      },
      "source": [
        "!pip install -U bnlp_toolkit"
      ],
      "execution_count": 1,
      "outputs": [
        {
          "output_type": "stream",
          "name": "stdout",
          "text": [
            "Looking in indexes: https://pypi.org/simple, https://us-python.pkg.dev/colab-wheels/public/simple/\n",
            "Collecting bnlp_toolkit\n",
            "  Downloading bnlp_toolkit-3.2.0-py3-none-any.whl (19 kB)\n",
            "Collecting gensim==4.0.1\n",
            "  Downloading gensim-4.0.1-cp37-cp37m-manylinux1_x86_64.whl (23.9 MB)\n",
            "\u001b[K     |████████████████████████████████| 23.9 MB 6.8 MB/s \n",
            "\u001b[?25hRequirement already satisfied: nltk in /usr/local/lib/python3.7/dist-packages (from bnlp_toolkit) (3.7)\n",
            "Collecting sentencepiece\n",
            "  Downloading sentencepiece-0.1.97-cp37-cp37m-manylinux_2_17_x86_64.manylinux2014_x86_64.whl (1.3 MB)\n",
            "\u001b[K     |████████████████████████████████| 1.3 MB 43.2 MB/s \n",
            "\u001b[?25hRequirement already satisfied: tqdm in /usr/local/lib/python3.7/dist-packages (from bnlp_toolkit) (4.64.1)\n",
            "Requirement already satisfied: scipy in /usr/local/lib/python3.7/dist-packages (from bnlp_toolkit) (1.7.3)\n",
            "Collecting sklearn-crfsuite\n",
            "  Downloading sklearn_crfsuite-0.3.6-py2.py3-none-any.whl (12 kB)\n",
            "Requirement already satisfied: wasabi in /usr/local/lib/python3.7/dist-packages (from bnlp_toolkit) (0.10.1)\n",
            "Requirement already satisfied: numpy in /usr/local/lib/python3.7/dist-packages (from bnlp_toolkit) (1.21.6)\n",
            "Requirement already satisfied: smart-open>=1.8.1 in /usr/local/lib/python3.7/dist-packages (from gensim==4.0.1->bnlp_toolkit) (5.2.1)\n",
            "Requirement already satisfied: click in /usr/local/lib/python3.7/dist-packages (from nltk->bnlp_toolkit) (7.1.2)\n",
            "Requirement already satisfied: joblib in /usr/local/lib/python3.7/dist-packages (from nltk->bnlp_toolkit) (1.2.0)\n",
            "Requirement already satisfied: regex>=2021.8.3 in /usr/local/lib/python3.7/dist-packages (from nltk->bnlp_toolkit) (2022.6.2)\n",
            "Requirement already satisfied: six in /usr/local/lib/python3.7/dist-packages (from sklearn-crfsuite->bnlp_toolkit) (1.15.0)\n",
            "Collecting python-crfsuite>=0.8.3\n",
            "  Downloading python_crfsuite-0.9.8-cp37-cp37m-manylinux_2_17_x86_64.manylinux2014_x86_64.whl (965 kB)\n",
            "\u001b[K     |████████████████████████████████| 965 kB 26.7 MB/s \n",
            "\u001b[?25hRequirement already satisfied: tabulate in /usr/local/lib/python3.7/dist-packages (from sklearn-crfsuite->bnlp_toolkit) (0.8.10)\n",
            "Installing collected packages: python-crfsuite, sklearn-crfsuite, sentencepiece, gensim, bnlp-toolkit\n",
            "  Attempting uninstall: gensim\n",
            "    Found existing installation: gensim 3.6.0\n",
            "    Uninstalling gensim-3.6.0:\n",
            "      Successfully uninstalled gensim-3.6.0\n",
            "Successfully installed bnlp-toolkit-3.2.0 gensim-4.0.1 python-crfsuite-0.9.8 sentencepiece-0.1.97 sklearn-crfsuite-0.3.6\n"
          ]
        }
      ]
    },
    {
      "cell_type": "markdown",
      "metadata": {
        "id": "aYS0EYaLS-OC"
      },
      "source": [
        "## Downloading Pretrained model\n",
        "\n",
        "NB: POS TAG and NER model may need to download from https://github.com/sagorbrur/bnlp/blob/master/model/bn_pos_model.pkl and then upload it to colab. \n",
        "\n",
        "Otherwise it will arise an error. "
      ]
    },
    {
      "cell_type": "code",
      "metadata": {
        "id": "4VHCHzC7TgQZ",
        "outputId": "2224174d-7291-49ae-9104-a0554455e5ea",
        "colab": {
          "base_uri": "https://localhost:8080/"
        }
      },
      "source": [
        "!mkdir models\n",
        "%cd models"
      ],
      "execution_count": 2,
      "outputs": [
        {
          "output_type": "stream",
          "name": "stdout",
          "text": [
            "/content/models\n"
          ]
        }
      ]
    },
    {
      "cell_type": "code",
      "metadata": {
        "id": "3d0TozrSTm0x",
        "outputId": "6afc296b-a980-441e-c013-87cb0a167b14",
        "colab": {
          "base_uri": "https://localhost:8080/"
        }
      },
      "source": [
        "!wget https://github.com/sagorbrur/bnlp/raw/master/model/bn_spm.model\n",
        "!wget https://github.com/sagorbrur/bnlp/raw/master/model/bn_spm.vocab\n",
        "!wget https://github.com/sagorbrur/bnlp/raw/master/model/bn_pos.pkl\n",
        "!wget https://github.com/sagorbrur/bnlp/raw/master/model/bn_ner.pkl"
      ],
      "execution_count": 3,
      "outputs": [
        {
          "output_type": "stream",
          "name": "stdout",
          "text": [
            "--2022-11-09 05:07:49--  https://github.com/sagorbrur/bnlp/raw/master/model/bn_spm.model\n",
            "Resolving github.com (github.com)... 140.82.112.3\n",
            "Connecting to github.com (github.com)|140.82.112.3|:443... connected.\n",
            "HTTP request sent, awaiting response... 302 Found\n",
            "Location: https://raw.githubusercontent.com/sagorbrur/bnlp/master/model/bn_spm.model [following]\n",
            "--2022-11-09 05:07:50--  https://raw.githubusercontent.com/sagorbrur/bnlp/master/model/bn_spm.model\n",
            "Resolving raw.githubusercontent.com (raw.githubusercontent.com)... 185.199.109.133, 185.199.108.133, 185.199.111.133, ...\n",
            "Connecting to raw.githubusercontent.com (raw.githubusercontent.com)|185.199.109.133|:443... connected.\n",
            "HTTP request sent, awaiting response... 200 OK\n",
            "Length: 1703793 (1.6M) [application/octet-stream]\n",
            "Saving to: ‘bn_spm.model’\n",
            "\n",
            "bn_spm.model        100%[===================>]   1.62M  --.-KB/s    in 0.06s   \n",
            "\n",
            "2022-11-09 05:07:50 (28.9 MB/s) - ‘bn_spm.model’ saved [1703793/1703793]\n",
            "\n",
            "--2022-11-09 05:07:50--  https://github.com/sagorbrur/bnlp/raw/master/model/bn_spm.vocab\n",
            "Resolving github.com (github.com)... 140.82.112.3\n",
            "Connecting to github.com (github.com)|140.82.112.3|:443... connected.\n",
            "HTTP request sent, awaiting response... 302 Found\n",
            "Location: https://raw.githubusercontent.com/sagorbrur/bnlp/master/model/bn_spm.vocab [following]\n",
            "--2022-11-09 05:07:51--  https://raw.githubusercontent.com/sagorbrur/bnlp/master/model/bn_spm.vocab\n",
            "Resolving raw.githubusercontent.com (raw.githubusercontent.com)... 185.199.108.133, 185.199.109.133, 185.199.110.133, ...\n",
            "Connecting to raw.githubusercontent.com (raw.githubusercontent.com)|185.199.108.133|:443... connected.\n",
            "HTTP request sent, awaiting response... 200 OK\n",
            "Length: 1510665 (1.4M) [text/plain]\n",
            "Saving to: ‘bn_spm.vocab’\n",
            "\n",
            "bn_spm.vocab        100%[===================>]   1.44M  --.-KB/s    in 0.06s   \n",
            "\n",
            "2022-11-09 05:07:51 (24.4 MB/s) - ‘bn_spm.vocab’ saved [1510665/1510665]\n",
            "\n",
            "--2022-11-09 05:07:51--  https://github.com/sagorbrur/bnlp/raw/master/model/bn_pos.pkl\n",
            "Resolving github.com (github.com)... 140.82.112.3\n",
            "Connecting to github.com (github.com)|140.82.112.3|:443... connected.\n",
            "HTTP request sent, awaiting response... 302 Found\n",
            "Location: https://raw.githubusercontent.com/sagorbrur/bnlp/master/model/bn_pos.pkl [following]\n",
            "--2022-11-09 05:07:54--  https://raw.githubusercontent.com/sagorbrur/bnlp/master/model/bn_pos.pkl\n",
            "Resolving raw.githubusercontent.com (raw.githubusercontent.com)... 185.199.110.133, 185.199.108.133, 185.199.109.133, ...\n",
            "Connecting to raw.githubusercontent.com (raw.githubusercontent.com)|185.199.110.133|:443... connected.\n",
            "HTTP request sent, awaiting response... 200 OK\n",
            "Length: 3897386 (3.7M) [application/octet-stream]\n",
            "Saving to: ‘bn_pos.pkl’\n",
            "\n",
            "bn_pos.pkl          100%[===================>]   3.72M  --.-KB/s    in 0.07s   \n",
            "\n",
            "2022-11-09 05:07:54 (49.8 MB/s) - ‘bn_pos.pkl’ saved [3897386/3897386]\n",
            "\n",
            "--2022-11-09 05:07:54--  https://github.com/sagorbrur/bnlp/raw/master/model/bn_ner.pkl\n",
            "Resolving github.com (github.com)... 140.82.112.3\n",
            "Connecting to github.com (github.com)|140.82.112.3|:443... connected.\n",
            "HTTP request sent, awaiting response... 302 Found\n",
            "Location: https://raw.githubusercontent.com/sagorbrur/bnlp/master/model/bn_ner.pkl [following]\n",
            "--2022-11-09 05:07:55--  https://raw.githubusercontent.com/sagorbrur/bnlp/master/model/bn_ner.pkl\n",
            "Resolving raw.githubusercontent.com (raw.githubusercontent.com)... 185.199.108.133, 185.199.109.133, 185.199.110.133, ...\n",
            "Connecting to raw.githubusercontent.com (raw.githubusercontent.com)|185.199.108.133|:443... connected.\n",
            "HTTP request sent, awaiting response... 200 OK\n",
            "Length: 26024594 (25M) [application/octet-stream]\n",
            "Saving to: ‘bn_ner.pkl’\n",
            "\n",
            "bn_ner.pkl          100%[===================>]  24.82M  96.8MB/s    in 0.3s    \n",
            "\n",
            "2022-11-09 05:07:55 (96.8 MB/s) - ‘bn_ner.pkl’ saved [26024594/26024594]\n",
            "\n"
          ]
        }
      ]
    },
    {
      "cell_type": "code",
      "metadata": {
        "id": "WV6m0AF7S5IC",
        "outputId": "27895cf0-a24e-4fa8-e4f7-389ce6409cdf",
        "colab": {
          "base_uri": "https://localhost:8080/"
        }
      },
      "source": [
        "!wget https://huggingface.co/sagorsarker/bangla_word2vec/resolve/main/bangla_word2vec_gen4.zip\n",
        "!unzip bangla_word2vec_gen4.zip\n",
        "!rm -rf bangla_word2vec_gen4.zip"
      ],
      "execution_count": 5,
      "outputs": [
        {
          "output_type": "stream",
          "name": "stdout",
          "text": [
            "--2022-11-09 05:09:29--  https://huggingface.co/sagorsarker/bangla_word2vec/resolve/main/bangla_word2vec_gen4.zip\n",
            "Resolving huggingface.co (huggingface.co)... 52.1.251.133, 52.202.148.66, 2600:1f18:147f:e850:7d1e:3ba3:741b:b41b, ...\n",
            "Connecting to huggingface.co (huggingface.co)|52.1.251.133|:443... connected.\n",
            "HTTP request sent, awaiting response... 302 Found\n",
            "Location: https://cdn-lfs.huggingface.co/repos/f5/12/f51294acf565f8e7f2b231a61a327e6a79fce680615e3bbbc4850f166e928650/b157fe019ddda848f0195240f636ff2dcb63cbe823c84eed77c129e196105fd1?response-content-disposition=attachment%3B%20filename%3D%22bangla_word2vec_gen4.zip%22&Expires=1668229769&Policy=eyJTdGF0ZW1lbnQiOlt7IlJlc291cmNlIjoiaHR0cHM6Ly9jZG4tbGZzLmh1Z2dpbmdmYWNlLmNvL3JlcG9zL2Y1LzEyL2Y1MTI5NGFjZjU2NWY4ZTdmMmIyMzFhNjFhMzI3ZTZhNzlmY2U2ODA2MTVlM2JiYmM0ODUwZjE2NmU5Mjg2NTAvYjE1N2ZlMDE5ZGRkYTg0OGYwMTk1MjQwZjYzNmZmMmRjYjYzY2JlODIzYzg0ZWVkNzdjMTI5ZTE5NjEwNWZkMT9yZXNwb25zZS1jb250ZW50LWRpc3Bvc2l0aW9uPWF0dGFjaG1lbnQlM0IlMjBmaWxlbmFtZSUzRCUyMmJhbmdsYV93b3JkMnZlY19nZW40LnppcCUyMiIsIkNvbmRpdGlvbiI6eyJEYXRlTGVzc1RoYW4iOnsiQVdTOkVwb2NoVGltZSI6MTY2ODIyOTc2OX19fV19&Signature=qtA4GOOhqjPm09UOtHx5LrHZ88m5vyCjhg2WEdNoFbw5La82sXhVQS91IXHYI3twBJJzg1bqlRZjTJVsoN1Y~dKas1nFYJpoGLA4fukVEPm69cE-ymg-rMiBKZ4b8wvIxLvZ6yL1Dvq45621OqjLBwutr3ri6mXnO5GDT9hZczzaw8Z04cd9pBYo6MIg1zVln0QaxwayTx560FBmjesxD8dkxixAIU0Z7tyhl2lqB10HCoc~BdrlEKVUl0J~ltv1436tZwqRKuxBWZDNb0q6fiGFSvkw8QJ0NZ1t3u1KqbPgL3XiMnTV2gu-mrqGqQBAdxCziave36XwysL~WLfLxA__&Key-Pair-Id=KVTP0A1DKRTAX [following]\n",
            "--2022-11-09 05:09:29--  https://cdn-lfs.huggingface.co/repos/f5/12/f51294acf565f8e7f2b231a61a327e6a79fce680615e3bbbc4850f166e928650/b157fe019ddda848f0195240f636ff2dcb63cbe823c84eed77c129e196105fd1?response-content-disposition=attachment%3B%20filename%3D%22bangla_word2vec_gen4.zip%22&Expires=1668229769&Policy=eyJTdGF0ZW1lbnQiOlt7IlJlc291cmNlIjoiaHR0cHM6Ly9jZG4tbGZzLmh1Z2dpbmdmYWNlLmNvL3JlcG9zL2Y1LzEyL2Y1MTI5NGFjZjU2NWY4ZTdmMmIyMzFhNjFhMzI3ZTZhNzlmY2U2ODA2MTVlM2JiYmM0ODUwZjE2NmU5Mjg2NTAvYjE1N2ZlMDE5ZGRkYTg0OGYwMTk1MjQwZjYzNmZmMmRjYjYzY2JlODIzYzg0ZWVkNzdjMTI5ZTE5NjEwNWZkMT9yZXNwb25zZS1jb250ZW50LWRpc3Bvc2l0aW9uPWF0dGFjaG1lbnQlM0IlMjBmaWxlbmFtZSUzRCUyMmJhbmdsYV93b3JkMnZlY19nZW40LnppcCUyMiIsIkNvbmRpdGlvbiI6eyJEYXRlTGVzc1RoYW4iOnsiQVdTOkVwb2NoVGltZSI6MTY2ODIyOTc2OX19fV19&Signature=qtA4GOOhqjPm09UOtHx5LrHZ88m5vyCjhg2WEdNoFbw5La82sXhVQS91IXHYI3twBJJzg1bqlRZjTJVsoN1Y~dKas1nFYJpoGLA4fukVEPm69cE-ymg-rMiBKZ4b8wvIxLvZ6yL1Dvq45621OqjLBwutr3ri6mXnO5GDT9hZczzaw8Z04cd9pBYo6MIg1zVln0QaxwayTx560FBmjesxD8dkxixAIU0Z7tyhl2lqB10HCoc~BdrlEKVUl0J~ltv1436tZwqRKuxBWZDNb0q6fiGFSvkw8QJ0NZ1t3u1KqbPgL3XiMnTV2gu-mrqGqQBAdxCziave36XwysL~WLfLxA__&Key-Pair-Id=KVTP0A1DKRTAX\n",
            "Resolving cdn-lfs.huggingface.co (cdn-lfs.huggingface.co)... 108.157.162.58, 108.157.162.95, 108.157.162.99, ...\n",
            "Connecting to cdn-lfs.huggingface.co (cdn-lfs.huggingface.co)|108.157.162.58|:443... connected.\n",
            "HTTP request sent, awaiting response... 200 OK\n",
            "Length: 199591017 (190M) [application/zip]\n",
            "Saving to: ‘bangla_word2vec_gen4.zip’\n",
            "\n",
            "bangla_word2vec_gen 100%[===================>] 190.34M  39.5MB/s    in 5.1s    \n",
            "\n",
            "2022-11-09 05:09:34 (37.4 MB/s) - ‘bangla_word2vec_gen4.zip’ saved [199591017/199591017]\n",
            "\n",
            "Archive:  bangla_word2vec_gen4.zip\n",
            "   creating: bangla_word2vec/\n",
            "  inflating: bangla_word2vec/README.md  \n",
            "  inflating: bangla_word2vec/bnwiki_word2vec.model  \n",
            "  inflating: bangla_word2vec/bnwiki_word2vec.model.syn1neg.npy  \n",
            "  inflating: bangla_word2vec/bnwiki_word2vec.model.wv.vectors.npy  \n",
            "  inflating: bangla_word2vec/bnwiki_word2vec.vector  \n",
            "   creating: bangla_word2vec/evaluations/\n",
            "  inflating: bangla_word2vec/evaluations/evaluation.json  \n"
          ]
        }
      ]
    },
    {
      "cell_type": "code",
      "metadata": {
        "id": "4X8Rb7wwU-dJ",
        "outputId": "a3c1b129-0d0c-45ba-a041-a6a87934f59d",
        "colab": {
          "base_uri": "https://localhost:8080/"
        }
      },
      "source": [
        "!wget https://huggingface.co/sagorsarker/bangla-fasttext/resolve/main/bengali_fasttext_wiki.zip\n",
        "!unzip bengali_fasttext_wiki.zip\n",
        "!rm -rf bengali_fasttext_wiki.zip"
      ],
      "execution_count": 6,
      "outputs": [
        {
          "output_type": "stream",
          "name": "stdout",
          "text": [
            "--2022-11-09 05:10:10--  https://huggingface.co/sagorsarker/bangla-fasttext/resolve/main/bengali_fasttext_wiki.zip\n",
            "Resolving huggingface.co (huggingface.co)... 52.1.251.133, 52.202.148.66, 2600:1f18:147f:e850:7d1e:3ba3:741b:b41b, ...\n",
            "Connecting to huggingface.co (huggingface.co)|52.1.251.133|:443... connected.\n",
            "HTTP request sent, awaiting response... 302 Found\n",
            "Location: https://cdn-lfs.huggingface.co/repos/81/f7/81f7ef7be12e7d0f1469419427cd1cbb5fa60760f6acbef188c156d566bc9bd1/d55d28394e48d08960b1f6e9b3cc1f614293e0c3e1c2f3e8d4667dc5b172d228?response-content-disposition=attachment%3B%20filename%3D%22bengali_fasttext_wiki.zip%22&Expires=1668229810&Policy=eyJTdGF0ZW1lbnQiOlt7IlJlc291cmNlIjoiaHR0cHM6Ly9jZG4tbGZzLmh1Z2dpbmdmYWNlLmNvL3JlcG9zLzgxL2Y3LzgxZjdlZjdiZTEyZTdkMGYxNDY5NDE5NDI3Y2QxY2JiNWZhNjA3NjBmNmFjYmVmMTg4YzE1NmQ1NjZiYzliZDEvZDU1ZDI4Mzk0ZTQ4ZDA4OTYwYjFmNmU5YjNjYzFmNjE0MjkzZTBjM2UxYzJmM2U4ZDQ2NjdkYzViMTcyZDIyOD9yZXNwb25zZS1jb250ZW50LWRpc3Bvc2l0aW9uPWF0dGFjaG1lbnQlM0IlMjBmaWxlbmFtZSUzRCUyMmJlbmdhbGlfZmFzdHRleHRfd2lraS56aXAlMjIiLCJDb25kaXRpb24iOnsiRGF0ZUxlc3NUaGFuIjp7IkFXUzpFcG9jaFRpbWUiOjE2NjgyMjk4MTB9fX1dfQ__&Signature=qRJnDTYcknEOhb6RVsqBWqNRAoO7w1nvL9xdbrJCrfhI02MeCznV9crIdtN-T34I3dmhFrXBoSM3v~Hr73cIG0y4ixg86MRVWUJNyDv1ebgrpS4CGYAlWq9AZecK1aYqGY3TFqXAstmNCeuhNLi88asT0GWYiWpfuNTCg5uWe3BsxI~9hB9FVDwB8a69JSHk39n0bhCDEDMFARlVXm1S1da0BqLoJOh8GLCfoEn~LfObzCAkrpWKIRKwUHfwVvhDk4qWtBPcV43qmx5PFcY2t76Wj4UKAlrJOI7qo51abcbH2Kzhc9WzW1xMk8pbrKXdOfdFTAMll9fTw3U5TpwO-g__&Key-Pair-Id=KVTP0A1DKRTAX [following]\n",
            "--2022-11-09 05:10:10--  https://cdn-lfs.huggingface.co/repos/81/f7/81f7ef7be12e7d0f1469419427cd1cbb5fa60760f6acbef188c156d566bc9bd1/d55d28394e48d08960b1f6e9b3cc1f614293e0c3e1c2f3e8d4667dc5b172d228?response-content-disposition=attachment%3B%20filename%3D%22bengali_fasttext_wiki.zip%22&Expires=1668229810&Policy=eyJTdGF0ZW1lbnQiOlt7IlJlc291cmNlIjoiaHR0cHM6Ly9jZG4tbGZzLmh1Z2dpbmdmYWNlLmNvL3JlcG9zLzgxL2Y3LzgxZjdlZjdiZTEyZTdkMGYxNDY5NDE5NDI3Y2QxY2JiNWZhNjA3NjBmNmFjYmVmMTg4YzE1NmQ1NjZiYzliZDEvZDU1ZDI4Mzk0ZTQ4ZDA4OTYwYjFmNmU5YjNjYzFmNjE0MjkzZTBjM2UxYzJmM2U4ZDQ2NjdkYzViMTcyZDIyOD9yZXNwb25zZS1jb250ZW50LWRpc3Bvc2l0aW9uPWF0dGFjaG1lbnQlM0IlMjBmaWxlbmFtZSUzRCUyMmJlbmdhbGlfZmFzdHRleHRfd2lraS56aXAlMjIiLCJDb25kaXRpb24iOnsiRGF0ZUxlc3NUaGFuIjp7IkFXUzpFcG9jaFRpbWUiOjE2NjgyMjk4MTB9fX1dfQ__&Signature=qRJnDTYcknEOhb6RVsqBWqNRAoO7w1nvL9xdbrJCrfhI02MeCznV9crIdtN-T34I3dmhFrXBoSM3v~Hr73cIG0y4ixg86MRVWUJNyDv1ebgrpS4CGYAlWq9AZecK1aYqGY3TFqXAstmNCeuhNLi88asT0GWYiWpfuNTCg5uWe3BsxI~9hB9FVDwB8a69JSHk39n0bhCDEDMFARlVXm1S1da0BqLoJOh8GLCfoEn~LfObzCAkrpWKIRKwUHfwVvhDk4qWtBPcV43qmx5PFcY2t76Wj4UKAlrJOI7qo51abcbH2Kzhc9WzW1xMk8pbrKXdOfdFTAMll9fTw3U5TpwO-g__&Key-Pair-Id=KVTP0A1DKRTAX\n",
            "Resolving cdn-lfs.huggingface.co (cdn-lfs.huggingface.co)... 108.157.162.99, 108.157.162.58, 108.157.162.95, ...\n",
            "Connecting to cdn-lfs.huggingface.co (cdn-lfs.huggingface.co)|108.157.162.99|:443... connected.\n",
            "HTTP request sent, awaiting response... 200 OK\n",
            "Length: 1632024418 (1.5G) [application/zip]\n",
            "Saving to: ‘bengali_fasttext_wiki.zip’\n",
            "\n",
            "bengali_fasttext_wi 100%[===================>]   1.52G  68.1MB/s    in 20s     \n",
            "\n",
            "2022-11-09 05:10:30 (77.8 MB/s) - ‘bengali_fasttext_wiki.zip’ saved [1632024418/1632024418]\n",
            "\n",
            "Archive:  bengali_fasttext_wiki.zip\n",
            "  inflating: bengali_fasttext_wiki.bin  \n"
          ]
        }
      ]
    },
    {
      "cell_type": "code",
      "source": [
        "!wget https://huggingface.co/sagorsarker/news_article_doc2vec/resolve/main/news_article_doc2vec.zip\n",
        "!unzip news_article_doc2vec.zip\n",
        "!rm -rf news_article_doc2vec.zip"
      ],
      "metadata": {
        "id": "dwRtXkBBy9s8",
        "outputId": "0e3fbb38-98a7-4af7-91c2-d72dee985c87",
        "colab": {
          "base_uri": "https://localhost:8080/"
        }
      },
      "execution_count": 7,
      "outputs": [
        {
          "output_type": "stream",
          "name": "stdout",
          "text": [
            "--2022-11-09 05:11:03--  https://huggingface.co/sagorsarker/news_article_doc2vec/resolve/main/news_article_doc2vec.zip\n",
            "Resolving huggingface.co (huggingface.co)... 52.1.251.133, 52.202.148.66, 2600:1f18:147f:e850:7d1e:3ba3:741b:b41b, ...\n",
            "Connecting to huggingface.co (huggingface.co)|52.1.251.133|:443... connected.\n",
            "HTTP request sent, awaiting response... 302 Found\n",
            "Location: https://cdn-lfs.huggingface.co/repos/4b/3e/4b3eda8caab369146ecb7cd40c87f73b09a0e5466d8cc1dce1a4c3a4303ceaef/3b22b0ac441307123957cd9d9498c7363e379cd2bd14c75b90bfae8c046636c8?response-content-disposition=attachment%3B%20filename%3D%22news_article_doc2vec.zip%22&Expires=1668229864&Policy=eyJTdGF0ZW1lbnQiOlt7IlJlc291cmNlIjoiaHR0cHM6Ly9jZG4tbGZzLmh1Z2dpbmdmYWNlLmNvL3JlcG9zLzRiLzNlLzRiM2VkYThjYWFiMzY5MTQ2ZWNiN2NkNDBjODdmNzNiMDlhMGU1NDY2ZDhjYzFkY2UxYTRjM2E0MzAzY2VhZWYvM2IyMmIwYWM0NDEzMDcxMjM5NTdjZDlkOTQ5OGM3MzYzZTM3OWNkMmJkMTRjNzViOTBiZmFlOGMwNDY2MzZjOD9yZXNwb25zZS1jb250ZW50LWRpc3Bvc2l0aW9uPWF0dGFjaG1lbnQlM0IlMjBmaWxlbmFtZSUzRCUyMm5ld3NfYXJ0aWNsZV9kb2MydmVjLnppcCUyMiIsIkNvbmRpdGlvbiI6eyJEYXRlTGVzc1RoYW4iOnsiQVdTOkVwb2NoVGltZSI6MTY2ODIyOTg2NH19fV19&Signature=EN7GWMMLGTV~n~kZGsGzlAfq18dXnZa~M6i-AmxFbi65JqGNUzdUR1sYs7vURMSKMf3JO0TbMqmjYEPj6BvKBW3-IPPcYhPFx5VCnk7RJN7-mceg83UacR-z38vddh74~wnIEALn69U~UD1CRuMwJcFKnHP1L6DgmbMMon6soVQSpLv7XGnRldxdo5AgakNQ58GBAHEMdV1fbgU7Mn7O1G2Yb3tLuWo-yBjdscYDESOj8YYSvZ3xJxEPnOmoOAlsBSPN7Engo6jbVD2jSzwEuIh-vqGpeJKVsMD85amrocZ67~byXnyQoFR7pYpCaUNDdOGPz-Lu20DbJ9PU8xJ7KQ__&Key-Pair-Id=KVTP0A1DKRTAX [following]\n",
            "--2022-11-09 05:11:03--  https://cdn-lfs.huggingface.co/repos/4b/3e/4b3eda8caab369146ecb7cd40c87f73b09a0e5466d8cc1dce1a4c3a4303ceaef/3b22b0ac441307123957cd9d9498c7363e379cd2bd14c75b90bfae8c046636c8?response-content-disposition=attachment%3B%20filename%3D%22news_article_doc2vec.zip%22&Expires=1668229864&Policy=eyJTdGF0ZW1lbnQiOlt7IlJlc291cmNlIjoiaHR0cHM6Ly9jZG4tbGZzLmh1Z2dpbmdmYWNlLmNvL3JlcG9zLzRiLzNlLzRiM2VkYThjYWFiMzY5MTQ2ZWNiN2NkNDBjODdmNzNiMDlhMGU1NDY2ZDhjYzFkY2UxYTRjM2E0MzAzY2VhZWYvM2IyMmIwYWM0NDEzMDcxMjM5NTdjZDlkOTQ5OGM3MzYzZTM3OWNkMmJkMTRjNzViOTBiZmFlOGMwNDY2MzZjOD9yZXNwb25zZS1jb250ZW50LWRpc3Bvc2l0aW9uPWF0dGFjaG1lbnQlM0IlMjBmaWxlbmFtZSUzRCUyMm5ld3NfYXJ0aWNsZV9kb2MydmVjLnppcCUyMiIsIkNvbmRpdGlvbiI6eyJEYXRlTGVzc1RoYW4iOnsiQVdTOkVwb2NoVGltZSI6MTY2ODIyOTg2NH19fV19&Signature=EN7GWMMLGTV~n~kZGsGzlAfq18dXnZa~M6i-AmxFbi65JqGNUzdUR1sYs7vURMSKMf3JO0TbMqmjYEPj6BvKBW3-IPPcYhPFx5VCnk7RJN7-mceg83UacR-z38vddh74~wnIEALn69U~UD1CRuMwJcFKnHP1L6DgmbMMon6soVQSpLv7XGnRldxdo5AgakNQ58GBAHEMdV1fbgU7Mn7O1G2Yb3tLuWo-yBjdscYDESOj8YYSvZ3xJxEPnOmoOAlsBSPN7Engo6jbVD2jSzwEuIh-vqGpeJKVsMD85amrocZ67~byXnyQoFR7pYpCaUNDdOGPz-Lu20DbJ9PU8xJ7KQ__&Key-Pair-Id=KVTP0A1DKRTAX\n",
            "Resolving cdn-lfs.huggingface.co (cdn-lfs.huggingface.co)... 108.157.162.95, 108.157.162.99, 108.157.162.58, ...\n",
            "Connecting to cdn-lfs.huggingface.co (cdn-lfs.huggingface.co)|108.157.162.95|:443... connected.\n",
            "HTTP request sent, awaiting response... 200 OK\n",
            "Length: 191536436 (183M) [application/zip]\n",
            "Saving to: ‘news_article_doc2vec.zip’\n",
            "\n",
            "news_article_doc2ve 100%[===================>] 182.66M  62.1MB/s    in 2.9s    \n",
            "\n",
            "2022-11-09 05:11:07 (62.1 MB/s) - ‘news_article_doc2vec.zip’ saved [191536436/191536436]\n",
            "\n",
            "Archive:  news_article_doc2vec.zip\n",
            "   creating: news_article_doc2vec/\n",
            "  inflating: news_article_doc2vec/bangla_news_article_doc2vec.model.wv.vectors.npy  \n",
            "  inflating: news_article_doc2vec/bangla_news_article_doc2vec.model  \n",
            "  inflating: news_article_doc2vec/bangla_news_article_doc2vec.model.syn1neg.npy  \n"
          ]
        }
      ]
    },
    {
      "cell_type": "code",
      "metadata": {
        "id": "L-Csx3qMV6bz",
        "outputId": "2ba3be80-154a-4e27-89b9-46f754d29a7b",
        "colab": {
          "base_uri": "https://localhost:8080/"
        }
      },
      "source": [
        "%cd .."
      ],
      "execution_count": 8,
      "outputs": [
        {
          "output_type": "stream",
          "name": "stdout",
          "text": [
            "/content\n"
          ]
        }
      ]
    },
    {
      "cell_type": "markdown",
      "metadata": {
        "id": "89_dmCXJWRWc"
      },
      "source": [
        "## Tokenization\n",
        "\n"
      ]
    },
    {
      "cell_type": "markdown",
      "metadata": {
        "id": "VjI8S58uXL3K"
      },
      "source": [
        "### Sentencepiece Tokenizer"
      ]
    },
    {
      "cell_type": "code",
      "metadata": {
        "id": "yTnY9_gWWP7z",
        "outputId": "9521f747-f1e6-4b48-d678-7d269fe0cf6f",
        "colab": {
          "base_uri": "https://localhost:8080/"
        }
      },
      "source": [
        "from bnlp import SentencepieceTokenizer\n",
        "\n",
        "bsp = SentencepieceTokenizer()\n",
        "model_path = \"./models/bn_spm.model\"\n",
        "input_text = \"আমি ভাত খাই। সে বাজারে যায়।\"\n",
        "tokens = bsp.tokenize(model_path, input_text)\n",
        "print(tokens)\n",
        "text2id = bsp.text2id(model_path, input_text)\n",
        "print(text2id)\n",
        "id2text = bsp.id2text(model_path, text2id)\n",
        "print(id2text)"
      ],
      "execution_count": 9,
      "outputs": [
        {
          "output_type": "stream",
          "name": "stdout",
          "text": [
            "punkt not found. downloading...\n"
          ]
        },
        {
          "output_type": "stream",
          "name": "stderr",
          "text": [
            "[nltk_data] Downloading package punkt to /root/nltk_data...\n",
            "[nltk_data]   Unzipping tokenizers/punkt.zip.\n",
            "/usr/local/lib/python3.7/dist-packages/gensim/similarities/__init__.py:15: UserWarning: The gensim.similarities.levenshtein submodule is disabled, because the optional Levenshtein package <https://pypi.org/project/python-Levenshtein/> is unavailable. Install Levenhstein (e.g. `pip install python-Levenshtein`) to suppress this warning.\n",
            "  warnings.warn(msg)\n"
          ]
        },
        {
          "output_type": "stream",
          "name": "stdout",
          "text": [
            "['▁আমি', '▁ভাত', '▁খাই', '।', '▁সে', '▁বাজারে', '▁যায়', '।']\n",
            "[914, 5265, 24224, 3, 124, 2244, 41, 3]\n",
            "আমি ভাত খাই। সে বাজারে যায়।\n"
          ]
        }
      ]
    },
    {
      "cell_type": "markdown",
      "metadata": {
        "id": "DhhO65MvXC2C"
      },
      "source": [
        "### Basic Tokenizer"
      ]
    },
    {
      "cell_type": "code",
      "metadata": {
        "id": "NvX910bCW7t6",
        "outputId": "aabc0a03-402e-4349-faaa-2a2107f23dcc",
        "colab": {
          "base_uri": "https://localhost:8080/"
        }
      },
      "source": [
        "from bnlp import BasicTokenizer\n",
        "basic_tokenizer = BasicTokenizer()\n",
        "raw_text = \"আমি বাংলায় গান গাই।\"\n",
        "tokens = basic_tokenizer.tokenize(raw_text)\n",
        "print(tokens)\n"
      ],
      "execution_count": 10,
      "outputs": [
        {
          "output_type": "stream",
          "name": "stdout",
          "text": [
            "['আমি', 'বাংলায়', 'গান', 'গাই', '।']\n"
          ]
        }
      ]
    },
    {
      "cell_type": "markdown",
      "metadata": {
        "id": "pTOHycMkXNoC"
      },
      "source": [
        "### NLTK Tokenizer"
      ]
    },
    {
      "cell_type": "code",
      "metadata": {
        "id": "0DT-H9W0XFGC",
        "outputId": "c2147c9e-3c1c-4d7e-fa06-52502334ca42",
        "colab": {
          "base_uri": "https://localhost:8080/"
        }
      },
      "source": [
        "from bnlp import NLTKTokenizer\n",
        "\n",
        "bnltk = NLTKTokenizer()\n",
        "text = \"আমি ভাত খাই। সে বাজারে যায়। তিনি কি সত্যিই ভালো মানুষ?\"\n",
        "word_tokens = bnltk.word_tokenize(text)\n",
        "sentence_tokens = bnltk.sentence_tokenize(text)\n",
        "print(word_tokens)\n",
        "print(sentence_tokens)"
      ],
      "execution_count": 11,
      "outputs": [
        {
          "output_type": "stream",
          "name": "stdout",
          "text": [
            "['আমি', 'ভাত', 'খাই', '।', 'সে', 'বাজারে', 'যায়', '।', 'তিনি', 'কি', 'সত্যিই', 'ভালো', 'মানুষ', '?']\n",
            "['আমি ভাত খাই।', 'সে বাজারে যায়।', 'তিনি কি সত্যিই ভালো মানুষ?']\n"
          ]
        }
      ]
    },
    {
      "cell_type": "markdown",
      "metadata": {
        "id": "puSrp9bBXklx"
      },
      "source": [
        "## Word Embedding"
      ]
    },
    {
      "cell_type": "markdown",
      "metadata": {
        "id": "k4JTRdBIXmmV"
      },
      "source": [
        "### Bengali Word2Vec"
      ]
    },
    {
      "cell_type": "code",
      "metadata": {
        "id": "aTPKDulmXT5B",
        "outputId": "b91f0fa3-4f4e-4530-d0ff-1247967852ee",
        "colab": {
          "base_uri": "https://localhost:8080/"
        }
      },
      "source": [
        "from bnlp import BengaliWord2Vec\n",
        "\n",
        "bwv = BengaliWord2Vec()\n",
        "model_path = \"models/bangla_word2vec/bnwiki_word2vec.model\"\n",
        "word = 'গ্রাম'\n",
        "vector = bwv.generate_word_vector(model_path, word)\n",
        "print(vector.shape)\n",
        "print(vector)"
      ],
      "execution_count": 12,
      "outputs": [
        {
          "output_type": "stream",
          "name": "stdout",
          "text": [
            "(100,)\n",
            "[ 0.76293206  1.4572781  -3.7683678  -0.09726813 -1.4333438   2.8011484\n",
            "  1.9579968   1.1469388  -2.1772997   1.1281793   0.6758321   1.314071\n",
            " -0.1841339   2.9335635   0.7044445  -4.231963    2.9034648  -2.060244\n",
            " -1.9769906  -0.59025     2.821248   -0.6715046  -1.2261004  -1.8427833\n",
            "  0.7755015  -1.9719176   0.9116099  -1.2052754  -0.43964756  1.5836431\n",
            " -2.9588635  -1.8440226  -1.5704885  -1.482467   -1.899114   -2.14662\n",
            " -1.9123405   0.31349376  2.5553396   2.2489288   1.1001713  -5.982552\n",
            "  4.3503394  -0.20511855 -1.1338245   1.33564     0.24925703  0.1771953\n",
            " -1.025408    1.7852478  -1.2566402   3.1444244  -1.5247227   1.5663935\n",
            " -3.6793199   3.4062645   1.4110695  -1.1561761  -3.1253147  -3.712445\n",
            "  1.0562334   1.3254627  -2.1161726   0.87056375  0.5172189   3.9118512\n",
            " -0.6090014   2.2447197  -1.9234213  -0.764041    1.8937262   0.6432401\n",
            "  1.3472961   3.9404683  -1.7026784  -0.55624783  1.2186618  -0.44829863\n",
            " -0.853135    0.7695726   0.24397588  0.665201   -1.8060609   0.0831942\n",
            "  1.9676945  -0.6496148   1.0765345  -1.3676363   1.5303773  -2.928948\n",
            "  1.0597363  -2.8982854  -0.75338143 -2.1130452   2.863194    1.4147363\n",
            "  1.9614406  -2.148851    1.351908   -1.1636723 ]\n"
          ]
        }
      ]
    },
    {
      "cell_type": "code",
      "metadata": {
        "id": "TXN7oFCHYRdB",
        "outputId": "384c04c6-333a-40b3-849c-fe6399abb503",
        "colab": {
          "base_uri": "https://localhost:8080/"
        }
      },
      "source": [
        "from bnlp import BengaliWord2Vec\n",
        "\n",
        "bwv = BengaliWord2Vec()\n",
        "model_path = \"models/bangla_word2vec/bnwiki_word2vec.model\"\n",
        "word = 'গ্রাম'\n",
        "similar = bwv.most_similar(model_path, word)\n",
        "print(similar)"
      ],
      "execution_count": 13,
      "outputs": [
        {
          "output_type": "stream",
          "name": "stdout",
          "text": [
            "[('মৌজা', 0.7147208452224731), ('মহল্লা', 0.6878851652145386), ('তালুক', 0.6774986386299133), ('গ্রামের', 0.6585026383399963), ('তহসিল', 0.6413203477859497), ('পুরসভা', 0.6314382553100586), ('গ্রামে', 0.6264088749885559), ('সংগ্রামপুর', 0.6029990315437317), ('গ্রামাঞ্চল', 0.5972400307655334), ('মৌজার', 0.5972233414649963)]\n"
          ]
        }
      ]
    },
    {
      "cell_type": "markdown",
      "metadata": {
        "id": "FpQsPWd5ZcwR"
      },
      "source": [
        "### Bengali Fasttext\n",
        "Install fasttext and restart runtime"
      ]
    },
    {
      "cell_type": "code",
      "metadata": {
        "id": "m-ElsxXXIJHh",
        "outputId": "b3421eb5-10bb-4964-e8db-ca0510477fe3",
        "colab": {
          "base_uri": "https://localhost:8080/"
        }
      },
      "source": [
        "!pip install fasttext"
      ],
      "execution_count": 14,
      "outputs": [
        {
          "output_type": "stream",
          "name": "stdout",
          "text": [
            "Looking in indexes: https://pypi.org/simple, https://us-python.pkg.dev/colab-wheels/public/simple/\n",
            "Collecting fasttext\n",
            "  Downloading fasttext-0.9.2.tar.gz (68 kB)\n",
            "\u001b[K     |████████████████████████████████| 68 kB 3.0 MB/s \n",
            "\u001b[?25hCollecting pybind11>=2.2\n",
            "  Using cached pybind11-2.10.1-py3-none-any.whl (216 kB)\n",
            "Requirement already satisfied: setuptools>=0.7.0 in /usr/local/lib/python3.7/dist-packages (from fasttext) (57.4.0)\n",
            "Requirement already satisfied: numpy in /usr/local/lib/python3.7/dist-packages (from fasttext) (1.21.6)\n",
            "Building wheels for collected packages: fasttext\n",
            "  Building wheel for fasttext (setup.py) ... \u001b[?25l\u001b[?25hdone\n",
            "  Created wheel for fasttext: filename=fasttext-0.9.2-cp37-cp37m-linux_x86_64.whl size=3165478 sha256=ad869e0f576c58417c970b04ddcbdee2af5aec2b5283efc29a475a5f5cf4189e\n",
            "  Stored in directory: /root/.cache/pip/wheels/4e/ca/bf/b020d2be95f7641801a6597a29c8f4f19e38f9c02a345bab9b\n",
            "Successfully built fasttext\n",
            "Installing collected packages: pybind11, fasttext\n",
            "Successfully installed fasttext-0.9.2 pybind11-2.10.1\n"
          ]
        }
      ]
    },
    {
      "cell_type": "code",
      "metadata": {
        "id": "ICGKCZbRYuue",
        "outputId": "5c8b6ea3-7b67-4881-8d04-0b3e68be592e",
        "colab": {
          "base_uri": "https://localhost:8080/"
        }
      },
      "source": [
        "from bnlp.embedding.fasttext import BengaliFasttext\n",
        "\n",
        "bft = BengaliFasttext()\n",
        "word = \"গ্রাম\"\n",
        "model_path = \"models/bengali_fasttext_wiki.bin\"\n",
        "word_vector = bft.generate_word_vector(model_path, word)\n",
        "print(word_vector.shape)\n",
        "print(word_vector)"
      ],
      "execution_count": 15,
      "outputs": [
        {
          "output_type": "stream",
          "name": "stderr",
          "text": [
            "Warning : `load_model` does not return WordVectorModel or SupervisedModel any more, but a `FastText` object which is very similar.\n"
          ]
        },
        {
          "output_type": "stream",
          "name": "stdout",
          "text": [
            "(100,)\n",
            "[ 0.22730371 -0.40870905 -0.15613425  0.3804481  -0.05980289 -0.28930932\n",
            "  0.34626344  0.40258473 -0.90198106  0.4493182  -0.7325722   0.04727728\n",
            "  0.7795627   0.12068285  0.4670834   0.86121595  0.19153564  0.22014432\n",
            " -0.73635215  0.4743112   0.04276856  0.24542333  0.58513665 -0.49344873\n",
            "  1.2036309  -0.37963045 -0.52979314  0.42768055 -0.2915344   0.6429044\n",
            " -0.24786738 -0.34868303  0.5416647  -0.19672239 -0.5149317  -0.4899621\n",
            "  0.41403815  0.84034336  0.43055257  0.05744093  1.0355072   0.6728295\n",
            " -0.46993157 -0.8494765   0.33383992  0.3980397   0.06346162 -1.2393602\n",
            "  0.18511884 -0.10365435 -1.0729522   0.2701686  -0.48516303  0.7226823\n",
            "  0.4941565  -0.14498085 -0.1882495   0.01020508  1.3079278  -1.0012709\n",
            "  0.13207525  0.05821019 -0.5525221   0.13435237  1.1650416  -0.08389879\n",
            " -0.34301072  0.7302537  -0.1674301   0.2222631   0.56786853  0.06164984\n",
            "  0.4102374   0.1456264  -0.28646046 -0.21075231  0.6185989  -0.4345684\n",
            " -0.15338174  0.96878874  0.56596994 -0.18027176  0.08185344  0.563611\n",
            " -0.2742687  -0.07975687  0.70638406  0.34093252  0.7824108   0.8325492\n",
            " -1.0650607   0.8536281   0.5853429   0.12890655 -0.2779051  -0.6521946\n",
            " -0.3292202  -1.3018389  -0.9134306   0.86215734]\n"
          ]
        }
      ]
    },
    {
      "source": [
        "# Generate vector file from trained fasttext bin model\n",
        "from bnlp.embedding.fasttext import BengaliFasttext\n",
        "\n",
        "bft = BengaliFasttext()\n",
        "\n",
        "model_path = \"models/bengali_fasttext_wiki.bin\"\n",
        "out_vector_name = \"models/bengali_fasttext_wiki.txt\"\n",
        "bft.bin2vec(model_path, out_vector_name)"
      ],
      "cell_type": "code",
      "metadata": {
        "id": "xb6TNtZKx2xc",
        "outputId": "78725ee6-42de-4908-edeb-9e38161d7ca7",
        "colab": {
          "base_uri": "https://localhost:8080/"
        }
      },
      "execution_count": 16,
      "outputs": [
        {
          "output_type": "stream",
          "name": "stderr",
          "text": [
            "Warning : `load_model` does not return WordVectorModel or SupervisedModel any more, but a `FastText` object which is very similar.\n"
          ]
        }
      ]
    },
    {
      "cell_type": "markdown",
      "source": [
        "### Bengali Glove Vector"
      ],
      "metadata": {
        "id": "2i1atjw90BTP"
      }
    },
    {
      "cell_type": "code",
      "source": [
        "# download glove vector\n",
        "!wget https://huggingface.co/sagorsarker/bangla-glove-vectors/resolve/main/bn_glove.100d.zip\n",
        "!unzip bn_glove.100d.zip -d models\n",
        "!rm -rf bn_glove.100d.zip"
      ],
      "metadata": {
        "id": "3HNng_350HuS",
        "outputId": "b63c1dda-4c24-4676-de00-0ff1dcaeb4a9",
        "colab": {
          "base_uri": "https://localhost:8080/"
        }
      },
      "execution_count": 17,
      "outputs": [
        {
          "output_type": "stream",
          "name": "stdout",
          "text": [
            "--2022-11-09 05:16:42--  https://huggingface.co/sagorsarker/bangla-glove-vectors/resolve/main/bn_glove.100d.zip\n",
            "Resolving huggingface.co (huggingface.co)... 52.202.148.66, 52.1.251.133, 2600:1f18:147f:e850:7d1e:3ba3:741b:b41b, ...\n",
            "Connecting to huggingface.co (huggingface.co)|52.202.148.66|:443... connected.\n",
            "HTTP request sent, awaiting response... 302 Found\n",
            "Location: https://cdn-lfs.huggingface.co/repos/aa/54/aa548a31e1afcb96a938d527a7a3914d612289d4eec18ddd467509e7f2f37969/6b102c3c24007daa52fa5fe9346ed48cb4ac39a513159b5aa6801b30fcf8b7da?response-content-disposition=attachment%3B%20filename%3D%22bn_glove.100d.zip%22&Expires=1668230203&Policy=eyJTdGF0ZW1lbnQiOlt7IlJlc291cmNlIjoiaHR0cHM6Ly9jZG4tbGZzLmh1Z2dpbmdmYWNlLmNvL3JlcG9zL2FhLzU0L2FhNTQ4YTMxZTFhZmNiOTZhOTM4ZDUyN2E3YTM5MTRkNjEyMjg5ZDRlZWMxOGRkZDQ2NzUwOWU3ZjJmMzc5NjkvNmIxMDJjM2MyNDAwN2RhYTUyZmE1ZmU5MzQ2ZWQ0OGNiNGFjMzlhNTEzMTU5YjVhYTY4MDFiMzBmY2Y4YjdkYT9yZXNwb25zZS1jb250ZW50LWRpc3Bvc2l0aW9uPWF0dGFjaG1lbnQlM0IlMjBmaWxlbmFtZSUzRCUyMmJuX2dsb3ZlLjEwMGQuemlwJTIyIiwiQ29uZGl0aW9uIjp7IkRhdGVMZXNzVGhhbiI6eyJBV1M6RXBvY2hUaW1lIjoxNjY4MjMwMjAzfX19XX0_&Signature=X3d6YRWEECId76CFRTnJn0uibk71OFzEGv7wsOMwp6ESbXqZqxhMj0FnkpsTD0Nq9hu726RMYba7ikAoJx8ggBYwSEffjqdoAtWQsivZp53iSiM0ywPUEOarSvPoyRfPe0gSglgWolaIIyY1q1tn-m99tFF~5xgAYPx-cLV1VC~PoeffYp-K306bGr-qkrn-MIHet3zDhCPjaTsJihpKiOpDJeUucikeaEngwoNsU2iRSuoxkTzSzOYcOszqMdOx-cR27K6O0kPEjffv84Hy3YAUPYNf-rFgX5gjleBmvzuuvoEDRqFIiILBzL6AN0XYvh7n2WwEwJDPEyj61yvGzw__&Key-Pair-Id=KVTP0A1DKRTAX [following]\n",
            "--2022-11-09 05:16:42--  https://cdn-lfs.huggingface.co/repos/aa/54/aa548a31e1afcb96a938d527a7a3914d612289d4eec18ddd467509e7f2f37969/6b102c3c24007daa52fa5fe9346ed48cb4ac39a513159b5aa6801b30fcf8b7da?response-content-disposition=attachment%3B%20filename%3D%22bn_glove.100d.zip%22&Expires=1668230203&Policy=eyJTdGF0ZW1lbnQiOlt7IlJlc291cmNlIjoiaHR0cHM6Ly9jZG4tbGZzLmh1Z2dpbmdmYWNlLmNvL3JlcG9zL2FhLzU0L2FhNTQ4YTMxZTFhZmNiOTZhOTM4ZDUyN2E3YTM5MTRkNjEyMjg5ZDRlZWMxOGRkZDQ2NzUwOWU3ZjJmMzc5NjkvNmIxMDJjM2MyNDAwN2RhYTUyZmE1ZmU5MzQ2ZWQ0OGNiNGFjMzlhNTEzMTU5YjVhYTY4MDFiMzBmY2Y4YjdkYT9yZXNwb25zZS1jb250ZW50LWRpc3Bvc2l0aW9uPWF0dGFjaG1lbnQlM0IlMjBmaWxlbmFtZSUzRCUyMmJuX2dsb3ZlLjEwMGQuemlwJTIyIiwiQ29uZGl0aW9uIjp7IkRhdGVMZXNzVGhhbiI6eyJBV1M6RXBvY2hUaW1lIjoxNjY4MjMwMjAzfX19XX0_&Signature=X3d6YRWEECId76CFRTnJn0uibk71OFzEGv7wsOMwp6ESbXqZqxhMj0FnkpsTD0Nq9hu726RMYba7ikAoJx8ggBYwSEffjqdoAtWQsivZp53iSiM0ywPUEOarSvPoyRfPe0gSglgWolaIIyY1q1tn-m99tFF~5xgAYPx-cLV1VC~PoeffYp-K306bGr-qkrn-MIHet3zDhCPjaTsJihpKiOpDJeUucikeaEngwoNsU2iRSuoxkTzSzOYcOszqMdOx-cR27K6O0kPEjffv84Hy3YAUPYNf-rFgX5gjleBmvzuuvoEDRqFIiILBzL6AN0XYvh7n2WwEwJDPEyj61yvGzw__&Key-Pair-Id=KVTP0A1DKRTAX\n",
            "Resolving cdn-lfs.huggingface.co (cdn-lfs.huggingface.co)... 108.157.162.27, 108.157.162.58, 108.157.162.95, ...\n",
            "Connecting to cdn-lfs.huggingface.co (cdn-lfs.huggingface.co)|108.157.162.27|:443... connected.\n",
            "HTTP request sent, awaiting response... 200 OK\n",
            "Length: 51174725 (49M) [application/zip]\n",
            "Saving to: ‘bn_glove.100d.zip’\n",
            "\n",
            "bn_glove.100d.zip   100%[===================>]  48.80M  19.4MB/s    in 2.5s    \n",
            "\n",
            "2022-11-09 05:16:45 (19.4 MB/s) - ‘bn_glove.100d.zip’ saved [51174725/51174725]\n",
            "\n",
            "Archive:  bn_glove.100d.zip\n",
            "  inflating: models/bn_glove.100d.txt  \n"
          ]
        }
      ]
    },
    {
      "cell_type": "code",
      "source": [
        "from bnlp import BengaliGlove\n",
        "glove_path = \"models/bn_glove.100d.txt\"\n",
        "word = \"গ্রাম\"\n",
        "bng = BengaliGlove()\n",
        "res = bng.closest_word(glove_path, word)\n",
        "print(res)\n",
        "vec = bng.word2vec(glove_path, word)\n",
        "print(vec)"
      ],
      "metadata": {
        "id": "-lLxerIo0FVz",
        "outputId": "7134bcfa-8c02-4dce-c6db-dd51f02ee575",
        "colab": {
          "base_uri": "https://localhost:8080/"
        }
      },
      "execution_count": 18,
      "outputs": [
        {
          "output_type": "stream",
          "name": "stdout",
          "text": [
            "['গ্রাম', 'গ্রামের', 'পঞ্চায়েতে', 'পঞ্চায়েতের', 'পঞ্চায়েতগুলি', 'গ্রামটি', 'গঞ্জের', 'ব্লক', 'গ্রামীণ', '৩৫']\n",
            "[-0.717154  0.204319  0.981128 -0.143919 -0.27748   0.537274  0.086825\n",
            " -0.041925 -0.385691  0.831834  0.121769  1.001845  1.140069 -0.187503\n",
            " -0.035112  0.191228 -0.658263 -0.865595 -0.749927 -1.292613  0.179235\n",
            "  0.683907  0.626463  0.530042 -0.575438  0.398385 -0.124687  0.059881\n",
            "  0.624665 -0.297283 -0.788894 -0.33834   0.568544  1.27385   0.771945\n",
            "  0.18709   0.152484  0.898867  0.305351  0.409124 -1.232125  0.801863\n",
            " -0.544444 -0.258698  0.750698  0.153801 -0.088939 -0.657796 -0.744032\n",
            "  0.005437  0.068823  1.452468 -1.103575  0.125556  0.872267 -0.072597\n",
            " -0.593549 -1.112354  0.126317  0.223684  0.177486  0.483259 -0.685185\n",
            "  0.68014   1.255763 -0.551453  0.022575  0.41832   0.386842  0.006775\n",
            "  0.7648    0.136363 -0.105026 -0.544173 -0.320443  0.150603 -0.431919\n",
            "  0.392022  0.127306  0.29251   0.099166 -0.81116  -0.446897  0.732276\n",
            "  0.689075 -0.235389  0.751264 -0.12757  -0.827087  0.915277 -0.591213\n",
            "  0.681569  0.277621 -1.82062   0.599809  0.370045  0.153323  0.807469\n",
            " -0.29561   0.371264]\n"
          ]
        }
      ]
    },
    {
      "cell_type": "markdown",
      "source": [
        "## Document Embedding"
      ],
      "metadata": {
        "id": "CX2vU_Hw0lLD"
      }
    },
    {
      "cell_type": "markdown",
      "source": [
        "## Bengali Doc2Vec"
      ],
      "metadata": {
        "id": "-Ye_iWNp0sL8"
      }
    },
    {
      "cell_type": "markdown",
      "source": [
        "* Get document vector from input document using pre-trained doc2vec model\n",
        "\n",
        "NB: The model here trained on news article. So it work better in news article input"
      ],
      "metadata": {
        "id": "8rXw8ETp1cBU"
      }
    },
    {
      "cell_type": "code",
      "source": [
        "from bnlp import BengaliDoc2vec\n",
        "\n",
        "bn_doc2vec = BengaliDoc2vec()\n",
        "\n",
        "model_path = \"models/news_article_doc2vec/bangla_news_article_doc2vec.model\" # keep other .npy model files also in same folder\n",
        "document = \"রাষ্ট্রবিরোধী ও উসকানিমূলক বক্তব্য দেওয়ার অভিযোগে গাজীপুরের গাছা থানায় ডিজিটাল নিরাপত্তা আইনে করা মামলায় আলোচিত ‘শিশুবক্তা’ রফিকুল ইসলামের বিরুদ্ধে অভিযোগ গঠন করেছেন আদালত। ফলে মামলার আনুষ্ঠানিক বিচার শুরু হলো। আজ বুধবার (২৬ জানুয়ারি) ঢাকার সাইবার ট্রাইব্যুনালের বিচারক আসসামছ জগলুল হোসেন এ অভিযোগ গঠন করেন। এর আগে, রফিকুল ইসলামকে কারাগার থেকে আদালতে হাজির করা হয়। এরপর তাকে নির্দোষ দাবি করে তার আইনজীবী শোহেল মো. ফজলে রাব্বি অব্যাহতি চেয়ে আবেদন করেন। অন্যদিকে, রাষ্ট্রপক্ষ অভিযোগ গঠনের পক্ষে শুনানি করেন। উভয় পক্ষের শুনানি শেষে আদালত অব্যাহতির আবেদন খারিজ করে অভিযোগ গঠনের মাধ্যমে বিচার শুরুর আদেশ দেন। একইসঙ্গে সাক্ষ্যগ্রহণের জন্য আগামী ২২ ফেব্রুয়ারি দিন ধার্য করেন আদালত।\"\n",
        "\n",
        "vector = bn_doc2vec.get_document_vector(model_path, text)\n",
        "print(vector)"
      ],
      "metadata": {
        "id": "28HKKsL400Yx",
        "outputId": "2eeed5f6-299d-4520-9813-557bcdc1076a",
        "colab": {
          "base_uri": "https://localhost:8080/"
        }
      },
      "execution_count": 20,
      "outputs": [
        {
          "output_type": "stream",
          "name": "stdout",
          "text": [
            "[ 0.7038652   0.4913534   0.7931793  -0.65413976 -0.16841933 -0.43033528\n",
            "  0.08106482 -0.52594984 -0.5551269  -0.02787653 -0.06406738 -0.11917823\n",
            "  0.16022989  0.5307839  -0.31868252 -0.31138507 -0.49706227 -0.30647603\n",
            " -0.4433819   0.11552296 -0.30711636 -0.07825602  0.22452116 -0.44843438\n",
            "  0.31773326 -0.07745048 -0.41113678 -0.42784798 -0.22861029 -0.73052555\n",
            " -0.5079695   0.63356483 -0.1123815  -0.17337064  0.26495728  0.00257159\n",
            "  0.47295094  0.03287122  0.1989206   0.03284843 -0.65412086 -0.6107436\n",
            " -0.5992991  -0.11335164  0.08153515 -0.42453566  0.13049792  0.24257377\n",
            "  0.62537014 -0.3425904  -0.14470007 -0.01759637  0.11260507  0.74665725\n",
            "  0.48315847 -0.46532637  0.4876836  -0.353204   -1.104146    0.63312775\n",
            " -0.41420233  0.7132449  -0.38124314 -0.06207362  0.63086987 -0.32902476\n",
            " -0.70172226 -0.45991632  0.10329346  0.40594622 -0.16205214 -0.6980639\n",
            "  0.10772587 -0.3887084  -0.19816057  0.5701957   0.396404    0.288141\n",
            "  0.53104144  0.6642343   0.35184905 -0.5003068   0.5698147   0.34171477\n",
            "  0.62128514 -0.42377543  0.66874593  0.3777001   0.3418514  -0.33915013\n",
            " -0.8795428   0.5203652   0.09579637 -0.5959921   0.16410345  0.30878088\n",
            "  0.5535781  -0.1356134   0.81283635  0.5975116 ]\n"
          ]
        }
      ]
    },
    {
      "cell_type": "markdown",
      "source": [
        "* Find document similarity between two documents\n",
        "\n",
        "The model used here trained on news article. So it will work better on news article inputs"
      ],
      "metadata": {
        "id": "XikStFMg1Q3B"
      }
    },
    {
      "cell_type": "code",
      "source": [
        "from bnlp import BengaliDoc2vec\n",
        "\n",
        "bn_doc2vec = BengaliDoc2vec()\n",
        "\n",
        "model_path = \"models/news_article_doc2vec/bangla_news_article_doc2vec.model\" # keep other .npy model files also in same folder\n",
        "article_1 = \"রাষ্ট্রবিরোধী ও উসকানিমূলক বক্তব্য দেওয়ার অভিযোগে গাজীপুরের গাছা থানায় ডিজিটাল নিরাপত্তা আইনে করা মামলায় আলোচিত ‘শিশুবক্তা’ রফিকুল ইসলামের বিরুদ্ধে অভিযোগ গঠন করেছেন আদালত। ফলে মামলার আনুষ্ঠানিক বিচার শুরু হলো। আজ বুধবার (২৬ জানুয়ারি) ঢাকার সাইবার ট্রাইব্যুনালের বিচারক আসসামছ জগলুল হোসেন এ অভিযোগ গঠন করেন। এর আগে, রফিকুল ইসলামকে কারাগার থেকে আদালতে হাজির করা হয়। এরপর তাকে নির্দোষ দাবি করে তার আইনজীবী শোহেল মো. ফজলে রাব্বি অব্যাহতি চেয়ে আবেদন করেন। অন্যদিকে, রাষ্ট্রপক্ষ অভিযোগ গঠনের পক্ষে শুনানি করেন। উভয় পক্ষের শুনানি শেষে আদালত অব্যাহতির আবেদন খারিজ করে অভিযোগ গঠনের মাধ্যমে বিচার শুরুর আদেশ দেন। একইসঙ্গে সাক্ষ্যগ্রহণের জন্য আগামী ২২ ফেব্রুয়ারি দিন ধার্য করেন আদালত।\"\n",
        "article_2 = \"রাষ্ট্রবিরোধী ও উসকানিমূলক বক্তব্য দেওয়ার অভিযোগে গাজীপুরের গাছা থানায় ডিজিটাল নিরাপত্তা আইনে করা মামলায় আলোচিত ‘শিশুবক্তা’ রফিকুল ইসলামের বিরুদ্ধে অভিযোগ গঠন করেছেন আদালত। ফলে মামলার আনুষ্ঠানিক বিচার শুরু হলো। আজ বুধবার (২৬ জানুয়ারি) ঢাকার সাইবার ট্রাইব্যুনালের বিচারক আসসামছ জগলুল হোসেন এ অভিযোগ গঠন করেন। এর আগে, রফিকুল ইসলামকে কারাগার থেকে আদালতে হাজির করা হয়। এরপর তাকে নির্দোষ দাবি করে তার আইনজীবী শোহেল মো. ফজলে রাব্বি অব্যাহতি চেয়ে আবেদন করেন। অন্যদিকে, রাষ্ট্রপক্ষ অভিযোগ গঠনের পক্ষে শুনানি করেন। উভয় পক্ষের শুনানি শেষে আদালত অব্যাহতির আবেদন খারিজ করে অভিযোগ গঠনের মাধ্যমে বিচার শুরুর আদেশ দেন। একইসঙ্গে সাক্ষ্যগ্রহণের জন্য আগামী ২২ ফেব্রুয়ারি দিন ধার্য করেন আদালত।\"\n",
        "\n",
        "similarity = bn_doc2vec.get_document_similarity(\n",
        "  model_path,\n",
        "  article_1,\n",
        "  article_2\n",
        ")\n",
        "print(similarity)"
      ],
      "metadata": {
        "id": "vEGDiFYi1I0P",
        "outputId": "a9d06df6-2d1a-4d63-eba5-5ef0abaa1cd2",
        "colab": {
          "base_uri": "https://localhost:8080/"
        }
      },
      "execution_count": 21,
      "outputs": [
        {
          "output_type": "stream",
          "name": "stdout",
          "text": [
            "0.98\n"
          ]
        }
      ]
    },
    {
      "cell_type": "markdown",
      "metadata": {
        "id": "8tEPivPeZhqF"
      },
      "source": [
        "## Bengali POS Tagging"
      ]
    },
    {
      "cell_type": "code",
      "metadata": {
        "id": "FCMr4ZkbZPZG",
        "outputId": "338b85a0-fa59-403c-c708-50c480f68b54",
        "colab": {
          "base_uri": "https://localhost:8080/"
        }
      },
      "source": [
        "from bnlp import POS\n",
        "bn_pos = POS()\n",
        "model_path = \"models/bn_pos.pkl\"\n",
        "text = \"আমি ভাত খাই।\"\n",
        "res = bn_pos.tag(model_path, text)\n",
        "print(res)"
      ],
      "execution_count": 22,
      "outputs": [
        {
          "output_type": "stream",
          "name": "stdout",
          "text": [
            "[('আমি', 'PPR'), ('ভাত', 'NC'), ('খাই', 'VM'), ('।', 'PU')]\n"
          ]
        }
      ]
    },
    {
      "cell_type": "markdown",
      "metadata": {
        "id": "x4lzRvVaqtw7"
      },
      "source": [
        "## Bengali Name Entity Recognition"
      ]
    },
    {
      "cell_type": "code",
      "metadata": {
        "id": "Kr23_fZbZkul",
        "outputId": "513d61be-0f7c-4bfd-e963-f78960c0b922",
        "colab": {
          "base_uri": "https://localhost:8080/"
        }
      },
      "source": [
        "from bnlp import NER\n",
        "bn_ner = NER()\n",
        "model_path = \"models/bn_ner.pkl\"\n",
        "text = \"সে ঢাকায় থাকে।\"\n",
        "result = bn_ner.tag(model_path, text)\n",
        "print(result)"
      ],
      "execution_count": 23,
      "outputs": [
        {
          "output_type": "stream",
          "name": "stdout",
          "text": [
            "[('সে', 'O'), ('ঢাকায়', 'S-LOC'), ('থাকে', 'O')]\n"
          ]
        }
      ]
    },
    {
      "cell_type": "markdown",
      "metadata": {
        "id": "86HNdJIIJmoY"
      },
      "source": [
        "# Bengali Corpus Class"
      ]
    },
    {
      "cell_type": "markdown",
      "metadata": {
        "id": "Ub43jYHZJ291"
      },
      "source": [
        "## Stopwords and Punctuations"
      ]
    },
    {
      "cell_type": "code",
      "metadata": {
        "id": "GMfaIogmtPnk",
        "outputId": "9c8fac93-bceb-47d9-8a94-d9672c259090",
        "colab": {
          "base_uri": "https://localhost:8080/"
        }
      },
      "source": [
        "from bnlp.corpus import stopwords, punctuations, letters, digits\n",
        "\n",
        "print(stopwords)\n",
        "print(punctuations)\n",
        "print(letters)\n",
        "print(digits)"
      ],
      "execution_count": 24,
      "outputs": [
        {
          "output_type": "stream",
          "name": "stdout",
          "text": [
            "['অতএব', 'অথচ', 'অথবা', 'অনুযায়ী', 'অনেক', 'অনেকে', 'অনেকেই', 'অন্তত', 'অন্য', 'অবধি', 'অবশ্য', 'অর্থাত', 'আই', 'আগামী', 'আগে', 'আগেই', 'আছে', 'আজ', 'আদ্যভাগে', 'আপনার', 'আপনি', 'আবার', 'আমরা', 'আমাকে', 'আমাদের', 'আমার', 'আমি', 'আর', 'আরও', 'ই', 'ইত্যাদি', 'ইহা', 'উচিত', 'উত্তর', 'উনি', 'উপর', 'উপরে', 'এ', 'এঁদের', 'এঁরা', 'এই', 'একই', 'একটি', 'একবার', 'একে', 'এক্', 'এখন', 'এখনও', 'এখানে', 'এখানেই', 'এটা', 'এটাই', 'এটি', 'এত', 'এতটাই', 'এতে', 'এদের', 'এব', 'এবং', 'এবার', 'এমন', 'এমনকী', 'এমনি', 'এর', 'এরা', 'এল', 'এস', 'এসে', 'ঐ', 'ও', 'ওঁদের', 'ওঁর', 'ওঁরা', 'ওই', 'ওকে', 'ওখানে', 'ওদের', 'ওর', 'ওরা', 'কখনও', 'কত', 'কবে', 'কমনে', 'কয়েক', 'কয়েকটি', 'করছে', 'করছেন', 'করতে', 'করবে', 'করবেন', 'করলে', 'করলেন', 'করা', 'করাই', 'করায়', 'করার', 'করি', 'করিতে', 'করিয়া', 'করিয়ে', 'করে', 'করেই', 'করেছিলেন', 'করেছে', 'করেছেন', 'করেন', 'কাউকে', 'কাছ', 'কাছে', 'কাজ', 'কাজে', 'কারও', 'কারণ', 'কি', 'কিংবা', 'কিছু', 'কিছুই', 'কিন্তু', 'কী', 'কে', 'কেউ', 'কেউই', 'কেখা', 'কেন', 'কোটি', 'কোন', 'কোনও', 'কোনো', 'ক্ষেত্রে', 'কয়েক', 'খুব', 'গিয়ে', 'গিয়েছে', 'গিয়ে', 'গুলি', 'গেছে', 'গেল', 'গেলে', 'গোটা', 'চলে', 'চান', 'চায়', 'চার', 'চালু', 'চেয়ে', 'চেষ্টা', 'ছাড়া', 'ছাড়াও', 'ছিল', 'ছিলেন', 'জন', 'জনকে', 'জনের', 'জন্য', 'জন্যওজে', 'জানতে', 'জানা', 'জানানো', 'জানায়', 'জানিয়ে', 'জানিয়েছে', 'জে', 'জ্নজন', 'টি', 'ঠিক', 'তখন', 'তত', 'তথা', 'তবু', 'তবে', 'তা', 'তাঁকে', 'তাঁদের', 'তাঁর', 'তাঁরা', 'তাঁাহারা', 'তাই', 'তাও', 'তাকে', 'তাতে', 'তাদের', 'তার', 'তারপর', 'তারা', 'তারৈ', 'তাহলে', 'তাহা', 'তাহাতে', 'তাহার', 'তিনঐ', 'তিনি', 'তিনিও', 'তুমি', 'তুলে', 'তেমন', 'তো', 'তোমার', 'থাকবে', 'থাকবেন', 'থাকা', 'থাকায়', 'থাকে', 'থাকেন', 'থেকে', 'থেকেই', 'থেকেও', 'দিকে', 'দিতে', 'দিন', 'দিয়ে', 'দিয়েছে', 'দিয়েছেন', 'দিলেন', 'দু', 'দুই', 'দুটি', 'দুটো', 'দেওয়া', 'দেওয়ার', 'দেওয়া', 'দেখতে', 'দেখা', 'দেখে', 'দেন', 'দেয়', 'দ্বারা', 'ধরা', 'ধরে', 'ধামার', 'নতুন', 'নয়', 'না', 'নাই', 'নাকি', 'নাগাদ', 'নানা', 'নিজে', 'নিজেই', 'নিজেদের', 'নিজের', 'নিতে', 'নিয়ে', 'নিয়ে', 'নেই', 'নেওয়া', 'নেওয়ার', 'নেওয়া', 'নয়', 'পক্ষে', 'পর', 'পরে', 'পরেই', 'পরেও', 'পর্যন্ত', 'পাওয়া', 'পাচ', 'পারি', 'পারে', 'পারেন', 'পি', 'পেয়ে', 'পেয়্র্', 'প্রতি', 'প্রথম', 'প্রভৃতি', 'প্রযন্ত', 'প্রাথমিক', 'প্রায়', 'প্রায়', 'ফলে', 'ফিরে', 'ফের', 'বক্তব্য', 'বদলে', 'বন', 'বরং', 'বলতে', 'বলল', 'বললেন', 'বলা', 'বলে', 'বলেছেন', 'বলেন', 'বসে', 'বহু', 'বা', 'বাদে', 'বার', 'বি', 'বিনা', 'বিভিন্ন', 'বিশেষ', 'বিষয়টি', 'বেশ', 'বেশি', 'ব্যবহার', 'ব্যাপারে', 'ভাবে', 'ভাবেই', 'মতো', 'মতোই', 'মধ্যভাগে', 'মধ্যে', 'মধ্যেই', 'মধ্যেও', 'মনে', 'মাত্র', 'মাধ্যমে', 'মোট', 'মোটেই', 'যখন', 'যত', 'যতটা', 'যথেষ্ট', 'যদি', 'যদিও', 'যা', 'যাঁর', 'যাঁরা', 'যাওয়া', 'যাওয়ার', 'যাওয়া', 'যাকে', 'যাচ্ছে', 'যাতে', 'যাদের', 'যান', 'যাবে', 'যায়', 'যার', 'যারা', 'যিনি', 'যে', 'যেখানে', 'যেতে', 'যেন', 'যেমন', 'র', 'রকম', 'রয়েছে', 'রাখা', 'রেখে', 'লক্ষ', 'শুধু', 'শুরু', 'সঙ্গে', 'সঙ্গেও', 'সব', 'সবার', 'সমস্ত', 'সম্প্রতি', 'সহ', 'সহিত', 'সাধারণ', 'সামনে', 'সি', 'সুতরাং', 'সে', 'সেই', 'সেখান', 'সেখানে', 'সেটা', 'সেটাই', 'সেটাও', 'সেটি', 'স্পষ্ট', 'স্বয়ং', 'হইতে', 'হইবে', 'হইয়া', 'হওয়া', 'হওয়ায়', 'হওয়ার', 'হচ্ছে', 'হত', 'হতে', 'হতেই', 'হন', 'হবে', 'হবেন', 'হয়', 'হয়তো', 'হয়নি', 'হয়ে', 'হয়েই', 'হয়েছিল', 'হয়েছে', 'হয়েছেন', 'হল', 'হলে', 'হলেই', 'হলেও', 'হলো', 'হাজার', 'হিসাবে', 'হৈলে', 'হোক', 'হয়']\n",
            "!\"#$%&'()*+,-./:;<=>?@[\\]^_`{|}~।ঃ\n",
            "অআইঈউঊঋএঐওঔকখগঘঙচছজঝঞটঠডঢণতথদধনপফবভমযরলশষসহড়ঢ়য়ৎংঃঁ\n",
            "০১২৩৪৫৬৭৮৯\n"
          ]
        }
      ]
    },
    {
      "cell_type": "markdown",
      "metadata": {
        "id": "KWtWAE7SJ9CL"
      },
      "source": [
        "## Remove stopwords from text"
      ]
    },
    {
      "cell_type": "code",
      "metadata": {
        "id": "FFmusO3OJ0YG",
        "outputId": "a83fc792-f924-4cd8-8123-4fda47e24ac6",
        "colab": {
          "base_uri": "https://localhost:8080/"
        }
      },
      "source": [
        "from bnlp.corpus import stopwords\n",
        "from bnlp.corpus.util import remove_stopwords\n",
        "\n",
        "raw_text = 'আমি ভাত খাই।' \n",
        "result = remove_stopwords(raw_text, stopwords)\n",
        "print(result)\n",
        "# ['ভাত', 'খাই', '।']"
      ],
      "execution_count": 25,
      "outputs": [
        {
          "output_type": "stream",
          "name": "stdout",
          "text": [
            "['ভাত', 'খাই', '।']\n"
          ]
        }
      ]
    },
    {
      "cell_type": "code",
      "metadata": {
        "id": "DKK0lDFoJ_c6"
      },
      "source": [],
      "execution_count": null,
      "outputs": []
    }
  ]
}
